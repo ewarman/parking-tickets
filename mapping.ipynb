{
 "cells": [
  {
   "cell_type": "code",
   "execution_count": 3,
   "metadata": {
    "collapsed": false
   },
   "outputs": [
    {
     "name": "stdout",
     "output_type": "stream",
     "text": [
      "{'collaped_address': '300 NEW TORONTO ST', 'num_associated': 5, 'latitude': 43.61593765, 'longitude': -79.321369}\n"
     ]
    }
   ],
   "source": [
    "import json\n",
    "import ast\n",
    "\n",
    "ll = []\n",
    "with open('latlong.json') as data_file:    \n",
    "    for line in data_file:\n",
    "        entry = ast.literal_eval(line)\n",
    "        del entry['addresses_associated']\n",
    "        del entry['_id']\n",
    "        ll.append(entry)\n",
    "\n",
    "print(ll[1])"
   ]
  },
  {
   "cell_type": "code",
   "execution_count": 4,
   "metadata": {
    "collapsed": true
   },
   "outputs": [],
   "source": [
    "import json\n",
    "with open('latlong_fixed.json', 'w') as outfile:\n",
    "    json.dump(ll, outfile)"
   ]
  },
  {
   "cell_type": "code",
   "execution_count": 1,
   "metadata": {
    "collapsed": false
   },
   "outputs": [
    {
     "name": "stdout",
     "output_type": "stream",
     "text": [
      "data/2008.csv success\n",
      "data/2009.csv success\n",
      "data/2010.csv success\n",
      "data/2011.csv success\n",
      "data/2012.csv success\n",
      "data/2013.csv success\n",
      "data/2014.csv success\n",
      "data/2015.csv success\n"
     ]
    }
   ],
   "source": [
    "#get REAL num associated\n",
    "import csv\n",
    "import re\n",
    "import sys\n",
    "from collections import Counter\n",
    "\n",
    "csv.field_size_limit(sys.maxsize)\n",
    "\n",
    "#make list of all addresses\n",
    "years=['2008','2009','2010','2011','2012','2013','2014','2015']\n",
    "files_to_open=['data/'+year+'.csv' for year in years]\n",
    "\n",
    "addresses = []\n",
    "def get_all_addresses(years, files_to_open):\n",
    "    for file in files_to_open:\n",
    "        try:\n",
    "            with open(file,'rt',encoding='utf8') as f:\n",
    "                reader = csv.DictReader(f)\n",
    "                for line in reader:\n",
    "                    addresses.append(line['location2'])\n",
    "                print(file+\" success\")\n",
    "        except FileNotFoundError:\n",
    "            print(file+\" failed\")\n",
    "            \n",
    "get_all_addresses(years,files_to_open)\n",
    "\n",
    "#create counter object of addresses\n",
    "address_counter = Counter(addresses)"
   ]
  },
  {
   "cell_type": "code",
   "execution_count": 2,
   "metadata": {
    "collapsed": true
   },
   "outputs": [],
   "source": [
    "import pickle\n",
    "#addresses per collapsed address\n",
    "collapsed_address_count={}\n",
    "cam = pickle.load(open(\"collapsed_address_map.pkl\", \"rb\" ))\n",
    "for key in cam.keys():\n",
    "    count = 0\n",
    "    for address in cam[key]:\n",
    "        count+=address_counter[address]\n",
    "    collapsed_address_count[key]=count"
   ]
  },
  {
   "cell_type": "code",
   "execution_count": 3,
   "metadata": {
    "collapsed": true
   },
   "outputs": [],
   "source": [
    "with open('collapsed_address_count.pkl', 'wb') as file:\n",
    "    pickle.dump(collapsed_address_count, file)"
   ]
  },
  {
   "cell_type": "code",
   "execution_count": 5,
   "metadata": {
    "collapsed": false
   },
   "outputs": [
    {
     "name": "stdout",
     "output_type": "stream",
     "text": [
      "74224\n"
     ]
    }
   ],
   "source": [
    "print(len(collapsed_address_count.keys()))"
   ]
  },
  {
   "cell_type": "code",
   "execution_count": null,
   "metadata": {
    "collapsed": false
   },
   "outputs": [],
   "source": [
    "from pymongo import MongoClient\n",
    "\n",
    "dbconn = MongoClient()\n",
    "db = dbconn.parking.latlong_copy\n",
    "\n",
    "for key in collapsed_address_count:\n",
    "    try:\n",
    "        db.find_one_and_update({'collaped_address':key},{'$set':{'num_associated':collapsed_address_count[key]}})\n",
    "    except:\n",
    "        print(key)"
   ]
  }
 ],
 "metadata": {
  "kernelspec": {
   "display_name": "Python 3",
   "language": "python",
   "name": "python3"
  },
  "language_info": {
   "codemirror_mode": {
    "name": "ipython",
    "version": 3
   },
   "file_extension": ".py",
   "mimetype": "text/x-python",
   "name": "python",
   "nbconvert_exporter": "python",
   "pygments_lexer": "ipython3",
   "version": "3.5.1"
  }
 },
 "nbformat": 4,
 "nbformat_minor": 0
}
