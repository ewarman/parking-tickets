{
 "cells": [
  {
   "cell_type": "code",
   "execution_count": 24,
   "metadata": {
    "collapsed": false
   },
   "outputs": [
    {
     "name": "stdout",
     "output_type": "stream",
     "text": [
      "{'latitude': 43.675614, 'addresses_associated': ['196 DUPONT ST', '132 DUPONT ST', '195 DUPONT ST', '102 DUPONT ST', '165 DUPONT ST', '124 DUPONT ST', '186 DUPONT ST', '108 DUPONT ST', '112 DUPONT ST', '176 DUPONT ST', '167 DUPONT ST', '168 DUPONT ST', '150 DUPONT ST', '116 DUPONT ST', '151 DUPONT ST', '103 DUPONT ST', '189 DUPONT ST', '161 DUPONT ST', '178 DUPONT ST', '142 DUPONT ST', '160 DUPONT ST', '125 DUPONT ST', '162 DUPONT ST', '126 DUPONT ST', '134 DUPONT ST', '119 DUPONT ST', '179 DUPONT ST', '198 DUPONT ST', '106 DUPONT ST', '164 DUPONT ST', '104 DUPONT ST', '107 DUPONT ST', '200 DUPONT ST', '117 DUPONT ST', '118 DUPONT ST', '121 DUPONT ST', '133 DUPONT ST', '101 DUPONT ST', '109 DUPONT ST', '114 DUPONT ST', '191 DUPONT ST', '188 DUPONT ST', '158 DUPONT ST', '184 DUPONT ST', '123 DUPONT ST', '144 DUPONT ST', '185 DUPONT ST', '190 DUPONT ST', '194 DUPONT ST', '120 DUPONT ST', '199 DUPONT ST', '143 DUPONT ST', '180 DUPONT ST', '131 DUPONT ST', '163 DUPONT ST', '128 DUPONT ST', '122 DUPONT ST', '127 DUPONT ST', '138 DUPONT ST', '140 DUPONT ST', '182 DUPONT ST', '169 DUPONT ST', '136 DUPONT ST', '139 DUPONT ST', '110 DUPONT ST', '193 DUPONT ST', '152 DUPONT ST', '192 DUPONT ST', '115 DUPONT ST', '149 DUPONT ST', '174 DUPONT ST', '105 DUPONT ST', '146 DUPONT ST', '113 DUPONT ST', '155 DUPONT ST', '111 DUPONT ST', '187 DUPONT ST', '130 DUPONT ST', '159 DUPONT ST'], 'collaped_address': '200 DUPONT ST', 'longitude': -79.404465, '_id': ObjectId('58350917b005991109534dd1'), 'num_associated': 5276}\n"
     ]
    }
   ],
   "source": [
    "#update an address (top 25)\n",
    "\n",
    "from pymongo import MongoClient\n",
    "\n",
    "dbconn = MongoClient()\n",
    "db = dbconn.parking.latlong\n",
    "\n",
    "#db.remove_one({\"collaped_address\":collapsed_address})\n",
    "\n",
    "collapsed_address = \"200 DUPONT ST\"\n",
    "\n",
    "#db.ensureIndex({'collaped_address' : collapsed_address}, {unique : true, dropDups : true})\n",
    "\n",
    "#collapsed_address = \"600 BLOOR ST W\"\n",
    "req = {\"collaped_address\": collapsed_address}\n",
    "resp = db.find(req)\n",
    "for res in resp:\n",
    "    print(res)\n",
    "\n",
    "#db.remove({\"collaped_address\":collapsed_address, \"num_associated\":98})"
   ]
  },
  {
   "cell_type": "code",
   "execution_count": null,
   "metadata": {
    "collapsed": true
   },
   "outputs": [],
   "source": [
    "def get_location_stats('collapsed_address'):\n",
    "    #find mapped addresses in db\n",
    "    req = {\"collaped_address\": collapsed_address}\n",
    "    resp = db.find(req)\n",
    "    addresses_to_find = resp['addresses_associated']\n",
    "    "
   ]
  },
  {
   "cell_type": "code",
   "execution_count": 77,
   "metadata": {
    "collapsed": false
   },
   "outputs": [
    {
     "name": "stdout",
     "output_type": "stream",
     "text": [
      "<pymongo.results.UpdateResult object at 0x1047585a0>\n"
     ]
    }
   ],
   "source": [
    "key = {'collaped_address': collapsed_address}\n",
    "changes = {'$set':{'latitude':43.6478110, 'longitude':-79.3911180}}\n",
    "    \n",
    "print(db.update_one(key,changes))"
   ]
  },
  {
   "cell_type": "code",
   "execution_count": null,
   "metadata": {
    "collapsed": true
   },
   "outputs": [],
   "source": [
    "#ROUND TO A STREET ADDRESS\n",
    "import csv\n",
    "import sys\n",
    "from collections import defaultdict\n",
    "import re\n",
    "\n",
    "#testing address resolution\n",
    "def myround(x, base=100):\n",
    "    return int(base * round(float(x)/base))\n",
    "\n",
    "def get_number(address):\n",
    "    numbers_in_address = [int(s) for s in address.split() if s.isdigit()]\n",
    "    if numbers_in_address:\n",
    "        return numbers_in_address[0]\n",
    "    else:\n",
    "        return None\n",
    "\n",
    "def collapse_to_street(address):\n",
    "    return re.sub(\"^\\d+\\s|\\s\\d+\\s|\\s\\d+$\", \"\", address)\n",
    "\n",
    "csv.field_size_limit(sys.maxsize)\n",
    "years=['2008','2009','2010','2011','2012','2013','2014','2015']\n",
    "files_to_open=['data/'+year+'.csv' for year in years]\n",
    "addresses100 = defaultdict(set)\n",
    "for idx,file in enumerate(files_to_open):\n",
    "    with open(file, 'rt', encoding='utf8') as f:\n",
    "        reader = csv.DictReader(f)\n",
    "        for line in reader:\n",
    "            address = get_number(line['location2'])\n",
    "            if address:\n",
    "                addresses100[collapse_to_street(line['location2'])].add(myround(address))\n",
    "    print(\"PROCESSED \"+file)"
   ]
  },
  {
   "cell_type": "code",
   "execution_count": 10,
   "metadata": {
    "collapsed": false
   },
   "outputs": [],
   "source": [
    "#get all collapsed address/lat-long pairs\n",
    "from pymongo import MongoClient\n",
    "\n",
    "dbconn = MongoClient()\n",
    "db = dbconn.parking.latlong\n",
    "\n",
    "all_records = db.find({},{\"collaped_address\":1,\"latitude\":1,\"longitude\":1, \"num_associated\":1, '_id':0})\n",
    "\n",
    "ar = []\n",
    "\n",
    "for record in all_records:\n",
    "    ar.append(record)"
   ]
  },
  {
   "cell_type": "code",
   "execution_count": 11,
   "metadata": {
    "collapsed": false
   },
   "outputs": [
    {
     "name": "stdout",
     "output_type": "stream",
     "text": [
      "{'latitude': 43.61593765, 'collaped_address': '800 BAY', 'longitude': -79.321369, 'num_associated': 3}\n"
     ]
    }
   ],
   "source": [
    "print(ar[0])"
   ]
  },
  {
   "cell_type": "code",
   "execution_count": null,
   "metadata": {
    "collapsed": false
   },
   "outputs": [
    {
     "name": "stdout",
     "output_type": "stream",
     "text": [
      "5350091.02\n",
      "5350128.02\n",
      "5350412.15\n",
      "5350341.04\n",
      "5350363.04\n",
      "5350513.01\n",
      "5350403.07\n",
      "5350442.03\n",
      "5350377.07\n",
      "5350412.23\n",
      "5350140.00\n",
      "5350591.01\n",
      "5350576.17\n",
      "5350311.05\n",
      "5350244.02\n",
      "5350564.02\n",
      "5350003.00\n",
      "5350018.00\n",
      "5350442.04\n",
      "5350576.09\n",
      "5350613.04\n",
      "5350411.24\n",
      "5350527.06\n",
      "5350030.00\n",
      "5350317.02\n",
      "5350279.02\n",
      "5350576.06\n",
      "5350029.00\n",
      "5350312.03\n",
      "5350442.06\n",
      "5350304.02\n",
      "5350800.02\n",
      "5350362.02\n",
      "5350576.35\n",
      "5350576.33\n",
      "5350820.01\n",
      "5350500.02\n",
      "5350412.14\n",
      "5350366.00\n",
      "5350363.05\n",
      "5350171.00\n",
      "5350502.02\n",
      "5350068.00\n",
      "5350357.01\n",
      "5350119.00\n",
      "5350106.00\n",
      "5350410.13\n",
      "5350024.00\n",
      "5350365.00\n",
      "5350810.01\n",
      "5350353.04\n",
      "5350377.04\n",
      "5350410.02\n",
      "5350509.02\n",
      "5350123.00\n",
      "5350612.10\n",
      "5350136.01\n",
      "5350622.00\n",
      "5350401.17\n",
      "5350376.08\n",
      "5350169.02\n",
      "5350250.05\n",
      "5350193.00\n",
      "5350402.08\n",
      "5350411.15\n",
      "5350635.00\n",
      "5350587.02\n",
      "5350324.06\n",
      "5350098.00\n",
      "5350102.02\n",
      "5350520.08\n",
      "5350261.00\n",
      "5350528.41\n",
      "5350805.02\n",
      "5350135.00\n",
      "5350442.02\n",
      "5350576.20\n",
      "5350527.09\n",
      "5350639.00\n",
      "5350401.08\n",
      "5350229.00\n",
      "5350362.01\n",
      "5350341.03\n",
      "5350476.00\n",
      "5350176.00\n",
      "5350528.39\n",
      "5350403.05\n",
      "5350564.01\n",
      "5350377.02\n",
      "5350224.00\n",
      "5350210.00\n",
      "5350576.24\n",
      "5350047.02\n",
      "5350576.51\n",
      "5350045.00\n",
      "5350572.04\n",
      "5350562.14\n",
      "5350341.02\n",
      "5350190.01\n",
      "5350513.02\n",
      "5350528.49\n",
      "5350188.00\n",
      "5350324.01\n",
      "5350378.26\n",
      "5350181.02\n",
      "5350576.34\n",
      "5350609.00\n",
      "5350174.00\n",
      "5350304.04\n",
      "5350820.03\n",
      "5350016.00\n",
      "5350410.12\n",
      "5350441.02\n",
      "5350306.02\n",
      "5350069.00\n",
      "5350301.03"
     ]
    }
   ],
   "source": [
    "import fiona\n",
    "from shapely import geometry\n",
    "\n",
    "db = dbconn.parking.censustract\n",
    "\n",
    "with fiona.open(\"gct_000b11a_e/gct_000b11a_e.shp\") as fiona_collection:\n",
    "    \n",
    "    ct_map = {}\n",
    "    ct_map_num = {}\n",
    "\n",
    "    # In this case, we'll assume the shapefile only has one record/layer (e.g., the shapefile\n",
    "    # is just for the borders of a single country, etc.).\n",
    "    while fiona_collection:\n",
    "        shapefile_record = fiona_collection.next()\n",
    "        if shapefile_record['properties']['CMANAME']=='Toronto':\n",
    "            census_tract = shapefile_record['properties']['CTUID']\n",
    "            shape = geometry.asShape( shapefile_record['geometry'] )\n",
    "            not_found = []\n",
    "            ct_map[census_tract]=[]\n",
    "            ct_map_num[census_tract]=0\n",
    "            print(census_tract)\n",
    "            for address in ar:\n",
    "                point = geometry.Point(address['longitude'], address['latitude'])\n",
    "                if shape.contains(point):\n",
    "                    ct_map_num[census_tract]+=address['num_associated']\n",
    "                    ct_map[census_tract].append(address['collaped_address'])\n",
    "                else:\n",
    "                    not_found.append(address)\n",
    "            ar = not_found"
   ]
  },
  {
   "cell_type": "code",
   "execution_count": 22,
   "metadata": {
    "collapsed": false
   },
   "outputs": [],
   "source": []
  }
 ],
 "metadata": {
  "kernelspec": {
   "display_name": "Python 3",
   "language": "python",
   "name": "python3"
  },
  "language_info": {
   "codemirror_mode": {
    "name": "ipython",
    "version": 3
   },
   "file_extension": ".py",
   "mimetype": "text/x-python",
   "name": "python",
   "nbconvert_exporter": "python",
   "pygments_lexer": "ipython3",
   "version": "3.5.1"
  }
 },
 "nbformat": 4,
 "nbformat_minor": 0
}
